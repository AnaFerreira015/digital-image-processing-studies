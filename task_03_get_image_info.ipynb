{
  "nbformat": 4,
  "nbformat_minor": 0,
  "metadata": {
    "colab": {
      "provenance": [],
      "authorship_tag": "ABX9TyNWMsV/0hMo1ZrvQoAdWzhk",
      "include_colab_link": true
    },
    "kernelspec": {
      "name": "python3",
      "display_name": "Python 3"
    },
    "language_info": {
      "name": "python"
    }
  },
  "cells": [
    {
      "cell_type": "markdown",
      "metadata": {
        "id": "view-in-github",
        "colab_type": "text"
      },
      "source": [
        "<a href=\"https://colab.research.google.com/github/AnaFerreira015/digital-image-processing-studies/blob/main/task_03_get_image_info.ipynb\" target=\"_parent\"><img src=\"https://colab.research.google.com/assets/colab-badge.svg\" alt=\"Open In Colab\"/></a>"
      ]
    },
    {
      "cell_type": "code",
      "execution_count": 1,
      "metadata": {
        "id": "sVXJGuOp_q8V"
      },
      "outputs": [],
      "source": [
        "import numpy as np"
      ]
    },
    {
      "cell_type": "code",
      "source": [
        "def get_image_info(image):\n",
        "    \"\"\"\n",
        "    Extrai metadados e informações estatísticas de uma imagem.\n",
        "\n",
        "    Parâmetros:\n",
        "    - image (numpy.ndarray): Imagem de entrada.\n",
        "\n",
        "    Retorno:\n",
        "    - dict: Dicionário contendo metadados e estatísticas da imagem.\n",
        "    \"\"\"\n",
        "\n",
        "    # Obtém a altura e largura da imagem\n",
        "    height, width = image.shape[:2]\n",
        "\n",
        "    # Obtém o tipo de dado (dtype) dos pixels\n",
        "    dtype = image.dtype\n",
        "\n",
        "    # Determina a profundidade (número de canais) da imagem\n",
        "    depth = 1 if len(image.shape) == 2 else image.shape[2]\n",
        "\n",
        "    # Calcula o valor mínimo, máximo, média e desvio padrão dos pixels\n",
        "    min_val = np.min(image)\n",
        "    max_val = np.max(image)\n",
        "    mean_val = np.mean(image)\n",
        "    std_val = np.std(image)\n",
        "\n",
        "    return {\n",
        "        \"width\": width,\n",
        "        \"height\": height,\n",
        "        \"dtype\": dtype,\n",
        "        \"depth\": depth,\n",
        "        \"min_value\": min_val,\n",
        "        \"max_value\": max_val,\n",
        "        \"mean\": mean_val,\n",
        "        \"std_dev\": std_val\n",
        "    }"
      ],
      "metadata": {
        "id": "jQbxBJNi_wE0"
      },
      "execution_count": 2,
      "outputs": []
    },
    {
      "cell_type": "code",
      "source": [
        "sample_image = np.random.randint(0, 256, (100, 100), dtype=np.uint8)\n",
        "info = get_image_info(sample_image)"
      ],
      "metadata": {
        "id": "HtrN6TP7_0Kx"
      },
      "execution_count": 3,
      "outputs": []
    },
    {
      "cell_type": "code",
      "source": [
        "for key, value in info.items():\n",
        "    print(f\"{key}: {value}\")"
      ],
      "metadata": {
        "colab": {
          "base_uri": "https://localhost:8080/"
        },
        "id": "WF4uE8YC_13V",
        "outputId": "37fe0b58-75dd-4d5d-a946-0c603da734f9"
      },
      "execution_count": 4,
      "outputs": [
        {
          "output_type": "stream",
          "name": "stdout",
          "text": [
            "width: 100\n",
            "height: 100\n",
            "dtype: uint8\n",
            "depth: 1\n",
            "min_value: 0\n",
            "max_value: 255\n",
            "mean: 128.7905\n",
            "std_dev: 73.49804085654256\n"
          ]
        }
      ]
    }
  ]
}